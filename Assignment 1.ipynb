{
 "cells": [
  {
   "cell_type": "raw",
   "metadata": {},
   "source": [
    "1. In the below elements which of them are values or an expression? eg:- values can be\n",
    "integer or string and expressions will be mathematical operators.\n",
    "\n",
    "* -> expression\n",
    "'hello' -> value\n",
    "-87.8  ->  value\n",
    "-      ->  expression\n",
    "/      ->  expression\n",
    "+      ->  expression\n",
    "6      ->  value"
   ]
  },
  {
   "cell_type": "raw",
   "metadata": {},
   "source": [
    "2. What is the difference between string and variable?\n",
    "\n",
    "-> A variable is used to store data whereas a string is a datatype which is store in variable.\n",
    "   Eg. x = \"Kunal\"\n",
    "   Here is x is a variable which store a string \"Kunal\"."
   ]
  },
  {
   "cell_type": "raw",
   "metadata": {},
   "source": [
    "3. Describe three different data types.\n",
    "\n",
    "-> String : It is a combination of Character. String is surrounded by single or double Quotes.\n",
    "            Eg. x = 'Kunal';  y = \"Kunal\"\n",
    "            Here x is similar to y\n",
    "-> Numerical : There are three types of numeric types\n",
    "               -> integer : It is whole number , can be positive or negative\n",
    "               -> Float: It is a decimal number, can be positive or negative\n",
    "               -> Complex: This are the imaginary number\n",
    "-> Bool : Boolean can Have True or False, It is used to evaluate any value and in return it give if it is True or Flase."
   ]
  },
  {
   "cell_type": "raw",
   "metadata": {},
   "source": [
    "4. What is an expression made up of? What do all expressions do?\n",
    "\n",
    "-> Expression are representation of values. Expression is made from combination of variable, a assignment operator and other      values and can give a new value.\n",
    "   "
   ]
  },
  {
   "cell_type": "raw",
   "metadata": {},
   "source": [
    "5. This assignment statements, like spam = 10. What is the difference between an\n",
    "   expression and a statement?\n",
    "   \n",
    "-> Expression is made from combination of variable, a assignment operator and other value whereas statement is action or a        command\n",
    "   Eg. a=5+3 -> Expression\n",
    "       print() -> Statement"
   ]
  },
  {
   "cell_type": "raw",
   "metadata": {},
   "source": [
    "6. After running the following code, what does the variable bacon contain?\n",
    "bacon = 22\n",
    "bacon + 1\n",
    "\n",
    "-> bacon contain 22 as we didn't store the updated value in any variable, so bacon is not updated as a result bacon is still      store 22"
   ]
  },
  {
   "cell_type": "raw",
   "metadata": {},
   "source": [
    "7. What should the values of the following two terms be?\n",
    "   'spam'+'spamspam'  -> 'spamspamspam'\n",
    "   'spam' * 3         -> 'spamspamspam'"
   ]
  },
  {
   "cell_type": "raw",
   "metadata": {},
   "source": [
    "8. Why is eggs a valid variable name while 100 is invalid?\n",
    "\n",
    "-> According to variable namming convention a variable name include a alphabet, number and a underscore, but name cannot start     with digit. \n",
    "-> so that's why 100 cannot be a variable name.\n",
    "-> And eggs is a valid variable name.\n",
    "   "
   ]
  },
  {
   "cell_type": "raw",
   "metadata": {},
   "source": [
    "9. What three functions can be used to get the integer, floating-point number, or string\n",
    "version of a value?\n",
    "\n",
    "-> integer -> int()\n",
    "   floating-point -> float()\n",
    "   String -> str()"
   ]
  },
  {
   "cell_type": "raw",
   "metadata": {},
   "source": [
    "10. Why does this expression cause an error? How can you fix it?\n",
    "'I have eaten '+99+'burritos.'\n",
    "-> This expression cause an error of a type mismatching as we are concatinating a string and a numneric data type.\n",
    "   This can be resolve by converting a Numberic datatype to String Datatype.\n",
    "   'I have eaten '+ '99 ' +'burritos.'"
   ]
  },
  {
   "cell_type": "code",
   "execution_count": null,
   "metadata": {},
   "outputs": [],
   "source": []
  }
 ],
 "metadata": {
  "kernelspec": {
   "display_name": "Python 3",
   "language": "python",
   "name": "python3"
  },
  "language_info": {
   "codemirror_mode": {
    "name": "ipython",
    "version": 3
   },
   "file_extension": ".py",
   "mimetype": "text/x-python",
   "name": "python",
   "nbconvert_exporter": "python",
   "pygments_lexer": "ipython3",
   "version": "3.7.4"
  }
 },
 "nbformat": 4,
 "nbformat_minor": 2
}
