{
 "cells": [
  {
   "cell_type": "raw",
   "metadata": {},
   "source": [
    "1.What are the two values of the Boolean data type? How do you write them?\n",
    "\n",
    "-> Two values of Boolean data type are true & false.\n",
    "   They are return as True and False."
   ]
  },
  {
   "cell_type": "raw",
   "metadata": {},
   "source": [
    "2. What are the three different types of Boolean operators?\n",
    "\n",
    "-> The three different type of Boolean operator are and, or & not. "
   ]
  },
  {
   "cell_type": "raw",
   "metadata": {},
   "source": [
    "3. Make a list of each Boolean operator's truth tables (i.e. every possible combination of Boolean\n",
    "values for the operator and what it evaluate ).\n",
    "\n",
    "-> And Operator:\n",
    "   A    B    Result\n",
    "   0    0    0\n",
    "   0    1    0\n",
    "   0    1    0\n",
    "   1    1    1\n",
    "   \n",
    "-> Or Operator:\n",
    "   A    B    Result\n",
    "   0    0    0\n",
    "   0    1    1\n",
    "   0    1    1\n",
    "   1    1    1\n",
    "\n",
    "-> Not Operator:\n",
    "   A    Result\n",
    "   0    1    \n",
    "   1    0    "
   ]
  },
  {
   "cell_type": "raw",
   "metadata": {},
   "source": [
    "4. What are the values of the following expressions?\n",
    "\n",
    "(5 > 4) and (3 == 5)      -> False\n",
    "not (5 > 4)               -> False\n",
    "(5 > 4) or (3 == 5)       -> True\n",
    "not ((5 > 4) or (3 == 5)) -> False\n",
    "\n",
    "(True and True) and (True == False)  -> False \n",
    "(not False) or (not True)   -> True\n"
   ]
  },
  {
   "cell_type": "raw",
   "metadata": {},
   "source": [
    "5. What are the six comparison operators?\n",
    "\n",
    "-> The six Comparison operator are:\n",
    "   1. >   -> greater than\n",
    "   2. <   -> less than\n",
    "   3. >=  -> greater than equals to\n",
    "   4. <=  -> less than equals to\n",
    "   5. ==  -> Equals to \n",
    "   6. !=  -> Not Equals to"
   ]
  },
  {
   "cell_type": "raw",
   "metadata": {},
   "source": [
    "6. How do you tell the difference between the equal to and assignment operators?Describe a\n",
    "condition and when you would use one.\n",
    "\n",
    "-> Assignment operator is used to assign a value to a variable, whereas Equals to operator is a comparison operator which is used to compare two variables or two values and equal to operator return bool value.\n",
    "Eg. 1. x = 4+3  -> here we store the value of (4+3) in a variable x.\n",
    "    2. x=12\n",
    "       y=12\n",
    "       x==y -> Here we compare that if two variable are equal or not. It will return boolean value.\n"
   ]
  },
  {
   "cell_type": "raw",
   "metadata": {},
   "source": [
    "7. Identify the three blocks in this code:\n",
    "spam = 0\n",
    "if spam == 10:\n",
    "    print('eggs')\n",
    "if spam > 5:\n",
    "    print('bacon')\n",
    "else:\n",
    "    print('ham')\n",
    "    print('spam')\n",
    "    print('spam')\n",
    "\n",
    "->ham\n",
    " spam\n",
    " spam      "
   ]
  },
  {
   "cell_type": "raw",
   "metadata": {},
   "source": [
    "8. Write code that prints Hello if 1 is stored in spam, prints Howdy if 2 is stored in spam, and prints\n",
    "Greetings! if anything else is stored in spam.\n",
    "\n",
    "->\n",
    "spam = 0\n",
    "if spam == 1:\n",
    "    print('Hello')\n",
    "elif spam == 2:\n",
    "    print('Howdy')\n",
    "else:\n",
    "    print('Greetings!')"
   ]
  },
  {
   "cell_type": "raw",
   "metadata": {},
   "source": [
    "9.If your programme is stuck in an endless loop, what keys you’ll press?\n",
    "\n",
    "-> we can use Ctrl + c or if we are working in notebook than we can restart the Kernel."
   ]
  },
  {
   "cell_type": "raw",
   "metadata": {},
   "source": [
    "10. How can you tell the difference between break and continue?\n",
    "\n",
    "-> Break and continue are control statements.\n",
    "   Break is used when we do want to stop the certain loop on a some condition occur whereas continue is used to skip the certain statements when the condition occur."
   ]
  },
  {
   "cell_type": "raw",
   "metadata": {},
   "source": [
    "11. In a for loop, what is the difference between range(10), range(0, 10), and range(0, 10, 1)?\n",
    "\n",
    "-> range(10) - if range has one argument than the argument is upper bound, It start from 0 and goes to one less than upper                    bound\n",
    "                range(10) = range(0,10)\n",
    "\n",
    "-> range(0,10) - if range has two argument than the first argument is lower bound and secound argument is upper bound.\n",
    "                 here range(0,10) means starts from 0 and goes to 9 (10 not included).\n",
    "\n",
    "-> range(0,10,1) - if range has three argument than the first and second are lower and upper bound whereas the third argument                      is jump size."
   ]
  },
  {
   "cell_type": "raw",
   "metadata": {},
   "source": [
    "12. Write a short program that prints the numbers 1 to 10 using a for loop. Then write an equivalent\n",
    "program that prints the numbers 1 to 10 using a while loop."
   ]
  },
  {
   "cell_type": "code",
   "execution_count": 2,
   "metadata": {},
   "outputs": [
    {
     "name": "stdout",
     "output_type": "stream",
     "text": [
      "1\n",
      "2\n",
      "3\n",
      "4\n",
      "5\n",
      "6\n",
      "7\n",
      "8\n",
      "9\n",
      "10\n"
     ]
    }
   ],
   "source": [
    "for i in range(1,11):\n",
    "    print(i)"
   ]
  },
  {
   "cell_type": "code",
   "execution_count": 3,
   "metadata": {},
   "outputs": [
    {
     "name": "stdout",
     "output_type": "stream",
     "text": [
      "1\n",
      "2\n",
      "3\n",
      "4\n",
      "5\n",
      "6\n",
      "7\n",
      "8\n",
      "9\n",
      "10\n"
     ]
    }
   ],
   "source": [
    "i=1\n",
    "while i<=10:\n",
    "    print(i)\n",
    "    i+=1"
   ]
  },
  {
   "cell_type": "raw",
   "metadata": {},
   "source": [
    "13. If you had a function named bacon() inside a module named spam, how would you call it after\n",
    "importing spam?\n",
    "\n",
    "->\n",
    "import spam \n",
    "spam.bacon()"
   ]
  }
 ],
 "metadata": {
  "kernelspec": {
   "display_name": "Python 3",
   "language": "python",
   "name": "python3"
  },
  "language_info": {
   "codemirror_mode": {
    "name": "ipython",
    "version": 3
   },
   "file_extension": ".py",
   "mimetype": "text/x-python",
   "name": "python",
   "nbconvert_exporter": "python",
   "pygments_lexer": "ipython3",
   "version": "3.7.4"
  }
 },
 "nbformat": 4,
 "nbformat_minor": 2
}
